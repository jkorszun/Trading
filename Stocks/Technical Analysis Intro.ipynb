{
 "cells": [
  {
   "cell_type": "markdown",
   "metadata": {},
   "source": [
    "# Technical Analysis Intro\n",
    "\n",
    "## yFinance and FinTA\n",
    "\n",
    " Uses yFinance API to read in the data: https://github.com/ranaroussi/yfinance <br>\n",
    " FinTA for the technical indicators: https://github.com/peerchemist/finta"
   ]
  },
  {
   "cell_type": "code",
   "execution_count": 1,
   "metadata": {},
   "outputs": [],
   "source": [
    "# import packages \n",
    "import numpy as np\n",
    "import pandas as pd\n",
    "import seaborn as s\n",
    "import finta as f\n",
    "import yfinance as yf\n",
    "import mplfinance as mpl"
   ]
  },
  {
   "cell_type": "code",
   "execution_count": 2,
   "metadata": {},
   "outputs": [
    {
     "name": "stdout",
     "output_type": "stream",
     "text": [
      "yfinance.Ticker object <MSFT>\n"
     ]
    },
    {
     "data": {
      "text/html": [
       "<div>\n",
       "<style scoped>\n",
       "    .dataframe tbody tr th:only-of-type {\n",
       "        vertical-align: middle;\n",
       "    }\n",
       "\n",
       "    .dataframe tbody tr th {\n",
       "        vertical-align: top;\n",
       "    }\n",
       "\n",
       "    .dataframe thead th {\n",
       "        text-align: right;\n",
       "    }\n",
       "</style>\n",
       "<table border=\"1\" class=\"dataframe\">\n",
       "  <thead>\n",
       "    <tr style=\"text-align: right;\">\n",
       "      <th></th>\n",
       "      <th>Open</th>\n",
       "      <th>High</th>\n",
       "      <th>Low</th>\n",
       "      <th>Close</th>\n",
       "      <th>Volume</th>\n",
       "    </tr>\n",
       "    <tr>\n",
       "      <th>Date</th>\n",
       "      <th></th>\n",
       "      <th></th>\n",
       "      <th></th>\n",
       "      <th></th>\n",
       "      <th></th>\n",
       "    </tr>\n",
       "  </thead>\n",
       "  <tbody>\n",
       "    <tr>\n",
       "      <td>2022-06-16</td>\n",
       "      <td>245.979996</td>\n",
       "      <td>247.419998</td>\n",
       "      <td>243.020004</td>\n",
       "      <td>244.970001</td>\n",
       "      <td>33169200</td>\n",
       "    </tr>\n",
       "    <tr>\n",
       "      <td>2022-06-17</td>\n",
       "      <td>244.699997</td>\n",
       "      <td>250.500000</td>\n",
       "      <td>244.029999</td>\n",
       "      <td>247.649994</td>\n",
       "      <td>43084800</td>\n",
       "    </tr>\n",
       "    <tr>\n",
       "      <td>2022-06-21</td>\n",
       "      <td>250.259995</td>\n",
       "      <td>254.750000</td>\n",
       "      <td>249.509995</td>\n",
       "      <td>253.740005</td>\n",
       "      <td>29928300</td>\n",
       "    </tr>\n",
       "    <tr>\n",
       "      <td>2022-06-22</td>\n",
       "      <td>251.889999</td>\n",
       "      <td>257.170013</td>\n",
       "      <td>250.369995</td>\n",
       "      <td>253.130005</td>\n",
       "      <td>25939900</td>\n",
       "    </tr>\n",
       "    <tr>\n",
       "      <td>2022-06-23</td>\n",
       "      <td>255.570007</td>\n",
       "      <td>259.369995</td>\n",
       "      <td>253.630005</td>\n",
       "      <td>258.859985</td>\n",
       "      <td>25861400</td>\n",
       "    </tr>\n",
       "  </tbody>\n",
       "</table>\n",
       "</div>"
      ],
      "text/plain": [
       "                  Open        High         Low       Close    Volume\n",
       "Date                                                                \n",
       "2022-06-16  245.979996  247.419998  243.020004  244.970001  33169200\n",
       "2022-06-17  244.699997  250.500000  244.029999  247.649994  43084800\n",
       "2022-06-21  250.259995  254.750000  249.509995  253.740005  29928300\n",
       "2022-06-22  251.889999  257.170013  250.369995  253.130005  25939900\n",
       "2022-06-23  255.570007  259.369995  253.630005  258.859985  25861400"
      ]
     },
     "execution_count": 2,
     "metadata": {},
     "output_type": "execute_result"
    }
   ],
   "source": [
    "# example ticker from API\n",
    "msft = yf.Ticker(\"MSFT\")\n",
    "print(msft)\n",
    "\n",
    "# get stock info\n",
    "msft.info\n",
    "\n",
    "# get historical market data, here max is 5 years.\n",
    "Data = msft.history()\n",
    "cols = ['Open', 'High', 'Low', 'Close', 'Volume']\n",
    "Data = Data[cols]\n",
    "Data.head()"
   ]
  },
  {
   "cell_type": "code",
   "execution_count": 3,
   "metadata": {},
   "outputs": [],
   "source": [
    "# function for converting columns with dollar sign leading\n",
    "#def split(dollar: str) -> float:\n",
    " #   return float(dollar.split(\"$\")[1])"
   ]
  },
  {
   "cell_type": "code",
   "execution_count": 4,
   "metadata": {},
   "outputs": [],
   "source": [
    "# convert column using function\n",
    "#Data[\"Close\"] = Data[\"Close\"].apply(split)"
   ]
  },
  {
   "cell_type": "code",
   "execution_count": 5,
   "metadata": {},
   "outputs": [
    {
     "data": {
      "text/plain": [
       "pandas.core.frame.DataFrame"
      ]
     },
     "execution_count": 5,
     "metadata": {},
     "output_type": "execute_result"
    }
   ],
   "source": [
    "type(Data)"
   ]
  },
  {
   "cell_type": "code",
   "execution_count": 6,
   "metadata": {},
   "outputs": [
    {
     "data": {
      "text/plain": [
       "Open      float64\n",
       "High      float64\n",
       "Low       float64\n",
       "Close     float64\n",
       "Volume      int64\n",
       "dtype: object"
      ]
     },
     "execution_count": 6,
     "metadata": {},
     "output_type": "execute_result"
    }
   ],
   "source": [
    "Data.dtypes"
   ]
  },
  {
   "cell_type": "code",
   "execution_count": 7,
   "metadata": {},
   "outputs": [
    {
     "data": {
      "text/plain": [
       "Date\n",
       "2022-06-16           NaN\n",
       "2022-06-17           NaN\n",
       "2022-06-21           NaN\n",
       "2022-06-22           NaN\n",
       "2022-06-23           NaN\n",
       "2022-06-24           NaN\n",
       "2022-06-27           NaN\n",
       "2022-06-28           NaN\n",
       "2022-06-29           NaN\n",
       "2022-06-30           NaN\n",
       "2022-07-01           NaN\n",
       "2022-07-05           NaN\n",
       "2022-07-06           NaN\n",
       "2022-07-07           NaN\n",
       "2022-07-08           NaN\n",
       "2022-07-11           NaN\n",
       "2022-07-12           NaN\n",
       "2022-07-13           NaN\n",
       "2022-07-14           NaN\n",
       "2022-07-15    258.545501\n",
       "Name: 20 period SMA, dtype: float64"
      ]
     },
     "execution_count": 7,
     "metadata": {},
     "output_type": "execute_result"
    }
   ],
   "source": [
    "# simple moving average\n",
    "f.TA.SMA(Data, 20)"
   ]
  },
  {
   "cell_type": "code",
   "execution_count": 8,
   "metadata": {},
   "outputs": [
    {
     "data": {
      "text/plain": [
       "Date\n",
       "2022-06-16    244.970001\n",
       "2022-06-17    247.649994\n",
       "2022-06-21    253.740005\n",
       "2022-06-22    253.130005\n",
       "2022-06-23    258.859985\n",
       "2022-06-24    267.700012\n",
       "2022-06-27    264.890015\n",
       "2022-06-28    256.480011\n",
       "2022-06-29    260.260010\n",
       "2022-06-30    256.829987\n",
       "2022-07-01    259.579987\n",
       "2022-07-05    262.850006\n",
       "2022-07-06    266.209991\n",
       "2022-07-07    268.399994\n",
       "2022-07-08    267.660004\n",
       "2022-07-11    264.510010\n",
       "2022-07-12    253.669998\n",
       "2022-07-13    252.720001\n",
       "2022-07-14    254.080002\n",
       "2022-07-15    256.720001\n",
       "Name: 20 period FRAMA., dtype: float64"
      ]
     },
     "execution_count": 8,
     "metadata": {},
     "output_type": "execute_result"
    }
   ],
   "source": [
    "# fractal adaptive moving average\n",
    "f.TA.FRAMA(Data,20)"
   ]
  },
  {
   "cell_type": "code",
   "execution_count": 9,
   "metadata": {},
   "outputs": [],
   "source": [
    "# bollinger bands\n",
    "bbands = f.TA.BBANDS(Data, 100)"
   ]
  },
  {
   "cell_type": "markdown",
   "metadata": {},
   "source": [
    "# Charting\n",
    "\n",
    "Utilizing mplfinance to produce easy to read charts: https://github.com/matplotlib/mplfinance"
   ]
  },
  {
   "cell_type": "code",
   "execution_count": 11,
   "metadata": {},
   "outputs": [
    {
     "data": {
      "image/png": "[encoded data removed]",
      "text/plain": [
       "<Figure size 800x575 with 4 Axes>"
      ]
     },
     "metadata": {},
     "output_type": "display_data"
    }
   ],
   "source": [
    "# basic plot function\n",
    "mpl.plot(Data,volume=True)"
   ]
  },
  {
   "cell_type": "code",
   "execution_count": 13,
   "metadata": {},
   "outputs": [],
   "source": [
    "# candlestick chart with save\n",
    "mpl.plot(Data,type=\"candle\",volume=True, savefig='testsave.png')"
   ]
  },
  {
   "cell_type": "code",
   "execution_count": null,
   "metadata": {},
   "outputs": [],
   "source": []
  }
 ],
 "metadata": {
  "kernelspec": {
   "display_name": "Python 3",
   "language": "python",
   "name": "python3"
  },
  "language_info": {
   "codemirror_mode": {
    "name": "ipython",
    "version": 3
   },
   "file_extension": ".py",
   "mimetype": "text/x-python",
   "name": "python",
   "nbconvert_exporter": "python",
   "pygments_lexer": "ipython3",
   "version": "3.7.4"
  }
 },
 "nbformat": 4,
 "nbformat_minor": 2
}
