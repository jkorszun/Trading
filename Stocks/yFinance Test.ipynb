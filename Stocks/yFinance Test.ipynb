{
 "cells": [
  {
   "cell_type": "markdown",
   "metadata": {},
   "source": [
    "# yFinance and FinTA Intro"
   ]
  },
  {
   "cell_type": "code",
   "execution_count": 1,
   "metadata": {},
   "outputs": [],
   "source": [
    "# import packages \n",
    "import numpy as np\n",
    "import pandas as pd\n",
    "import seaborn as s\n",
    "import finta as f\n",
    "import yfinance as yf"
   ]
  },
  {
   "cell_type": "code",
   "execution_count": 2,
   "metadata": {},
   "outputs": [
    {
     "name": "stdout",
     "output_type": "stream",
     "text": [
      "yfinance.Ticker object <MSFT>\n"
     ]
    },
    {
     "data": {
      "text/html": [
       "<div>\n",
       "<style scoped>\n",
       "    .dataframe tbody tr th:only-of-type {\n",
       "        vertical-align: middle;\n",
       "    }\n",
       "\n",
       "    .dataframe tbody tr th {\n",
       "        vertical-align: top;\n",
       "    }\n",
       "\n",
       "    .dataframe thead th {\n",
       "        text-align: right;\n",
       "    }\n",
       "</style>\n",
       "<table border=\"1\" class=\"dataframe\">\n",
       "  <thead>\n",
       "    <tr style=\"text-align: right;\">\n",
       "      <th></th>\n",
       "      <th>Open</th>\n",
       "      <th>High</th>\n",
       "      <th>Low</th>\n",
       "      <th>Close</th>\n",
       "    </tr>\n",
       "    <tr>\n",
       "      <th>Date</th>\n",
       "      <th></th>\n",
       "      <th></th>\n",
       "      <th></th>\n",
       "      <th></th>\n",
       "    </tr>\n",
       "  </thead>\n",
       "  <tbody>\n",
       "    <tr>\n",
       "      <td>2022-06-15</td>\n",
       "      <td>248.309998</td>\n",
       "      <td>255.300003</td>\n",
       "      <td>246.419998</td>\n",
       "      <td>251.759995</td>\n",
       "    </tr>\n",
       "    <tr>\n",
       "      <td>2022-06-16</td>\n",
       "      <td>245.979996</td>\n",
       "      <td>247.419998</td>\n",
       "      <td>243.020004</td>\n",
       "      <td>244.970001</td>\n",
       "    </tr>\n",
       "    <tr>\n",
       "      <td>2022-06-17</td>\n",
       "      <td>244.699997</td>\n",
       "      <td>250.500000</td>\n",
       "      <td>244.029999</td>\n",
       "      <td>247.649994</td>\n",
       "    </tr>\n",
       "    <tr>\n",
       "      <td>2022-06-21</td>\n",
       "      <td>250.259995</td>\n",
       "      <td>254.750000</td>\n",
       "      <td>249.509995</td>\n",
       "      <td>253.740005</td>\n",
       "    </tr>\n",
       "    <tr>\n",
       "      <td>2022-06-22</td>\n",
       "      <td>251.889999</td>\n",
       "      <td>257.170013</td>\n",
       "      <td>250.369995</td>\n",
       "      <td>253.130005</td>\n",
       "    </tr>\n",
       "  </tbody>\n",
       "</table>\n",
       "</div>"
      ],
      "text/plain": [
       "                  Open        High         Low       Close\n",
       "Date                                                      \n",
       "2022-06-15  248.309998  255.300003  246.419998  251.759995\n",
       "2022-06-16  245.979996  247.419998  243.020004  244.970001\n",
       "2022-06-17  244.699997  250.500000  244.029999  247.649994\n",
       "2022-06-21  250.259995  254.750000  249.509995  253.740005\n",
       "2022-06-22  251.889999  257.170013  250.369995  253.130005"
      ]
     },
     "execution_count": 2,
     "metadata": {},
     "output_type": "execute_result"
    }
   ],
   "source": [
    "# example ticker from API\n",
    "msft = yf.Ticker(\"MSFT\")\n",
    "print(msft)\n",
    "\n",
    "# get stock info\n",
    "msft.info\n",
    "\n",
    "# get historical market data, here max is 5 years.\n",
    "Data = msft.history()\n",
    "cols = ['Open', 'High', 'Low', 'Close']\n",
    "Data = Data[cols]\n",
    "Data.head()"
   ]
  },
  {
   "cell_type": "code",
   "execution_count": 3,
   "metadata": {},
   "outputs": [
    {
     "data": {
      "text/plain": [
       "pandas.core.frame.DataFrame"
      ]
     },
     "execution_count": 3,
     "metadata": {},
     "output_type": "execute_result"
    }
   ],
   "source": [
    "type(Data)"
   ]
  },
  {
   "cell_type": "code",
   "execution_count": 4,
   "metadata": {},
   "outputs": [
    {
     "data": {
      "text/plain": [
       "Open     float64\n",
       "High     float64\n",
       "Low      float64\n",
       "Close    float64\n",
       "dtype: object"
      ]
     },
     "execution_count": 4,
     "metadata": {},
     "output_type": "execute_result"
    }
   ],
   "source": [
    "Data.dtypes"
   ]
  },
  {
   "cell_type": "code",
   "execution_count": 7,
   "metadata": {},
   "outputs": [
    {
     "data": {
      "text/plain": [
       "Date\n",
       "2022-06-15           NaN\n",
       "2022-06-16           NaN\n",
       "2022-06-17           NaN\n",
       "2022-06-21           NaN\n",
       "2022-06-22           NaN\n",
       "2022-06-23           NaN\n",
       "2022-06-24           NaN\n",
       "2022-06-27           NaN\n",
       "2022-06-28           NaN\n",
       "2022-06-29           NaN\n",
       "2022-06-30           NaN\n",
       "2022-07-01           NaN\n",
       "2022-07-05           NaN\n",
       "2022-07-06           NaN\n",
       "2022-07-07           NaN\n",
       "2022-07-08           NaN\n",
       "2022-07-11           NaN\n",
       "2022-07-12           NaN\n",
       "2022-07-13           NaN\n",
       "2022-07-14    258.297501\n",
       "Name: 20 period SMA, dtype: float64"
      ]
     },
     "execution_count": 7,
     "metadata": {},
     "output_type": "execute_result"
    }
   ],
   "source": [
    "f.TA.SMA(Data, 20)"
   ]
  },
  {
   "cell_type": "code",
   "execution_count": null,
   "metadata": {},
   "outputs": [],
   "source": []
  }
 ],
 "metadata": {
  "kernelspec": {
   "display_name": "Python 3",
   "language": "python",
   "name": "python3"
  },
  "language_info": {
   "codemirror_mode": {
    "name": "ipython",
    "version": 3
   },
   "file_extension": ".py",
   "mimetype": "text/x-python",
   "name": "python",
   "nbconvert_exporter": "python",
   "pygments_lexer": "ipython3",
   "version": "3.7.4"
  }
 },
 "nbformat": 4,
 "nbformat_minor": 2
}
